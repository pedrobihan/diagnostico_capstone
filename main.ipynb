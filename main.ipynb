{
 "cells": [
  {
   "cell_type": "code",
   "execution_count": 1,
   "metadata": {},
   "outputs": [
    {
     "name": "stdout",
     "output_type": "stream",
     "text": [
      "Requirement already satisfied: opendatasets in /Library/Frameworks/Python.framework/Versions/3.8/lib/python3.8/site-packages (0.1.20)\n",
      "Requirement already satisfied: kaggle in /Library/Frameworks/Python.framework/Versions/3.8/lib/python3.8/site-packages (from opendatasets) (1.5.12)\n",
      "Requirement already satisfied: tqdm in /Library/Frameworks/Python.framework/Versions/3.8/lib/python3.8/site-packages (from opendatasets) (4.63.1)\n",
      "Requirement already satisfied: click in /Library/Frameworks/Python.framework/Versions/3.8/lib/python3.8/site-packages (from opendatasets) (8.0.4)\n",
      "Requirement already satisfied: six>=1.10 in /Library/Frameworks/Python.framework/Versions/3.8/lib/python3.8/site-packages (from kaggle->opendatasets) (1.15.0)\n",
      "Requirement already satisfied: certifi in /Library/Frameworks/Python.framework/Versions/3.8/lib/python3.8/site-packages (from kaggle->opendatasets) (2021.10.8)\n",
      "Requirement already satisfied: python-dateutil in /Library/Frameworks/Python.framework/Versions/3.8/lib/python3.8/site-packages (from kaggle->opendatasets) (2.8.1)\n",
      "Requirement already satisfied: requests in /Library/Frameworks/Python.framework/Versions/3.8/lib/python3.8/site-packages (from kaggle->opendatasets) (2.27.1)\n",
      "Requirement already satisfied: python-slugify in /Library/Frameworks/Python.framework/Versions/3.8/lib/python3.8/site-packages (from kaggle->opendatasets) (6.1.1)\n",
      "Requirement already satisfied: urllib3 in /Library/Frameworks/Python.framework/Versions/3.8/lib/python3.8/site-packages (from kaggle->opendatasets) (1.26.9)\n",
      "Requirement already satisfied: charset-normalizer~=2.0.0; python_version >= \"3\" in /Library/Frameworks/Python.framework/Versions/3.8/lib/python3.8/site-packages (from requests->kaggle->opendatasets) (2.0.12)\n",
      "Requirement already satisfied: idna<4,>=2.5; python_version >= \"3\" in /Library/Frameworks/Python.framework/Versions/3.8/lib/python3.8/site-packages (from requests->kaggle->opendatasets) (3.3)\n",
      "Requirement already satisfied: text-unidecode>=1.3 in /Library/Frameworks/Python.framework/Versions/3.8/lib/python3.8/site-packages (from python-slugify->kaggle->opendatasets) (1.3)\n",
      "\u001b[33mWARNING: You are using pip version 19.2.3, however version 22.0.4 is available.\n",
      "You should consider upgrading via the 'pip install --upgrade pip' command.\u001b[0m\n",
      "Note: you may need to restart the kernel to use updated packages.\n"
     ]
    }
   ],
   "source": [
    "%pip install opendatasets"
   ]
  },
  {
   "cell_type": "code",
   "execution_count": 2,
   "metadata": {},
   "outputs": [
    {
     "name": "stdout",
     "output_type": "stream",
     "text": [
      "Skipping, found downloaded files in \"./farmers-protest-tweets-dataset-raw-json\" (use force=True to force download)\n"
     ]
    }
   ],
   "source": [
    "import opendatasets as od\n",
    "od.download(\"https://www.kaggle.com/prathamsharma123/farmers-protest-tweets-dataset-raw-json\")"
   ]
  },
  {
   "cell_type": "code",
   "execution_count": 1,
   "metadata": {},
   "outputs": [],
   "source": [
    "from retweeted import imprimir_top_10retweets\n",
    "from days_top import imprimir_top_10days\n",
    "from hashtags import imprimir_top_10hashtags\n",
    "from users import imprimir_top_10tweeteros"
   ]
  },
  {
   "cell_type": "code",
   "execution_count": 2,
   "metadata": {},
   "outputs": [],
   "source": [
    "def main():\n",
    "    print(\"Se imprimen las funciones pedidas en formato (parametro, cantidad)\")\n",
    "    print(\"Los top 10 tweets mas retweeted:\")\n",
    "    imprimir_top_10retweets()\n",
    "    print()\n",
    "    print(\"Los top 10 días donde hay más tweets:\")\n",
    "    imprimir_top_10days()\n",
    "    print()\n",
    "    print(\"Top 10 hashtags más usados:\")\n",
    "    imprimir_top_10hashtags()\n",
    "    print()\n",
    "    print(\"Top 10 usuarios con mas tweets:\")\n",
    "    imprimir_top_10tweeteros()"
   ]
  },
  {
   "cell_type": "code",
   "execution_count": 3,
   "metadata": {},
   "outputs": [
    {
     "name": "stdout",
     "output_type": "stream",
     "text": [
      "Se imprimen las funciones pedidas en formato (parametro, cantidad)\n",
      "Los top 10 tweets mas retweeted:\n",
      "('rihanna', 315547)\n",
      "('GretaThunberg', 103957)\n",
      "('miakhalifa', 35921)\n",
      "('TeamJuJu', 23251)\n",
      "('BobBlackman', 20132)\n",
      "('vanessa_vash', 18744)\n",
      "('kylekuzma', 17368)\n",
      "('AmandaCerny', 15677)\n",
      "('SusanSarandon', 15162)\n",
      "('Jamie_Margolin', 14936)\n",
      "\n",
      "Los top 10 días donde hay más tweets:\n",
      "('2021-02-03', 83866)\n",
      "('2021-02-04', 58607)\n",
      "('2021-02-05', 33332)\n",
      "('2021-02-02', 28548)\n",
      "('2021-02-06', 22420)\n",
      "('2021-02-07', 11325)\n",
      "('2021-02-09', 9320)\n",
      "('2021-02-08', 8920)\n",
      "('2021-02-10', 7973)\n",
      "('2021-02-11', 5698)\n",
      "\n",
      "Top 10 hashtags más usados:\n",
      "('#FarmersProtest', 343617)\n",
      "('#IStandWithFarmers', 13959)\n",
      "('#farmersprotest', 13240)\n",
      "('#FarmersAreIndia', 9464)\n",
      "('#IndianFarmersHumanRights', 9246)\n",
      "('#StandWithFarmers', 8473)\n",
      "('#Rihanna', 8099)\n",
      "('#FarmersProtests', 7756)\n",
      "('#Farmers', 5735)\n",
      "('#shameonbollywood', 5124)\n",
      "\n",
      "Top 10 usuarios con mas tweets:\n",
      "('harjot_tweeting', 7134)\n",
      "('tasveersandhu', 2091)\n",
      "('shells_n_petals', 1991)\n",
      "('jot__b', 1841)\n",
      "('rebelpacifist', 1806)\n",
      "('rumsomal', 1722)\n",
      "('Iamjazzie96', 1502)\n",
      "('Jass_k_G', 1460)\n",
      "('DigitalKisanBot', 1453)\n",
      "('z_khalique007', 1446)\n"
     ]
    }
   ],
   "source": [
    "main()"
   ]
  }
 ],
 "metadata": {
  "interpreter": {
   "hash": "082e9a3bcad0a290d0001e938aa60b99250c6c2ef33a923c00b70f9826caf4b7"
  },
  "kernelspec": {
   "display_name": "",
   "language": "python",
   "name": "python3"
  },
  "language_info": {
   "codemirror_mode": {
    "name": "ipython",
    "version": 3
   },
   "file_extension": ".py",
   "mimetype": "text/x-python",
   "name": "python",
   "nbconvert_exporter": "python",
   "pygments_lexer": "ipython3",
   "version": "3.8.2"
  },
  "orig_nbformat": 4
 },
 "nbformat": 4,
 "nbformat_minor": 2
}
