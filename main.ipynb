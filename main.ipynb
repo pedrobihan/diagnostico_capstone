{
 "cells": [
  {
   "cell_type": "code",
   "execution_count": null,
   "metadata": {},
   "outputs": [],
   "source": [
    "%pip install opendatasets"
   ]
  },
  {
   "cell_type": "code",
   "execution_count": 1,
   "metadata": {},
   "outputs": [
    {
     "name": "stdout",
     "output_type": "stream",
     "text": [
      "Downloading farmers-protest-tweets-dataset-raw-json.zip to ./farmers-protest-tweets-dataset-raw-json\n"
     ]
    },
    {
     "name": "stderr",
     "output_type": "stream",
     "text": [
      "100%|██████████| 191M/191M [03:43<00:00, 895kB/s]  \n"
     ]
    },
    {
     "name": "stdout",
     "output_type": "stream",
     "text": [
      "\n"
     ]
    }
   ],
   "source": [
    "import opendatasets as od\n",
    "od.download(\"https://www.kaggle.com/prathamsharma123/farmers-protest-tweets-dataset-raw-json\")"
   ]
  },
  {
   "cell_type": "code",
   "execution_count": 2,
   "metadata": {},
   "outputs": [],
   "source": [
    "from retweeted import imprimir_top_10retweets"
   ]
  },
  {
   "cell_type": "code",
   "execution_count": 3,
   "metadata": {},
   "outputs": [],
   "source": [
    "def main():\n",
    "    print(\"Se imprimen las funciones pedidas\")\n",
    "    print(\"Los top 10 tweets mas retweeted:\")\n",
    "    imprimir_top_10retweets()"
   ]
  },
  {
   "cell_type": "code",
   "execution_count": 4,
   "metadata": {},
   "outputs": [
    {
     "name": "stdout",
     "output_type": "stream",
     "text": [
      "Se imprimen las funciones pedidas\n",
      "Los top 10 tweets mas retweeted:\n",
      "('rihanna', 315547)\n",
      "('GretaThunberg', 186824)\n",
      "('RaviSinghKA', 124916)\n",
      "('vanessa_vash', 120844)\n",
      "('amaanbali', 92250)\n",
      "('NavJammu', 74974)\n",
      "('saahilmenghani', 73069)\n",
      "('miakhalifa', 62893)\n",
      "('ndtv', 53565)\n",
      "('Jamie_Margolin', 41466)\n"
     ]
    }
   ],
   "source": [
    "main()"
   ]
  },
  {
   "cell_type": "code",
   "execution_count": null,
   "metadata": {},
   "outputs": [],
   "source": []
  }
 ],
 "metadata": {
  "interpreter": {
   "hash": "082e9a3bcad0a290d0001e938aa60b99250c6c2ef33a923c00b70f9826caf4b7"
  },
  "kernelspec": {
   "display_name": "",
   "language": "python",
   "name": "python3"
  },
  "language_info": {
   "codemirror_mode": {
    "name": "ipython",
    "version": 3
   },
   "file_extension": ".py",
   "mimetype": "text/x-python",
   "name": "python",
   "nbconvert_exporter": "python",
   "pygments_lexer": "ipython3",
   "version": "3.8.2"
  },
  "orig_nbformat": 4
 },
 "nbformat": 4,
 "nbformat_minor": 2
}
